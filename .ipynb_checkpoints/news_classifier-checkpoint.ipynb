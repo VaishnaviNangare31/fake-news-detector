{
 "cells": [
  {
   "cell_type": "code",
   "execution_count": 1,
   "id": "f92958b1-7312-4fdf-96a2-443cd7a1b3ae",
   "metadata": {},
   "outputs": [
    {
     "data": {
      "text/html": [
       "<div>\n",
       "<style scoped>\n",
       "    .dataframe tbody tr th:only-of-type {\n",
       "        vertical-align: middle;\n",
       "    }\n",
       "\n",
       "    .dataframe tbody tr th {\n",
       "        vertical-align: top;\n",
       "    }\n",
       "\n",
       "    .dataframe thead th {\n",
       "        text-align: right;\n",
       "    }\n",
       "</style>\n",
       "<table border=\"1\" class=\"dataframe\">\n",
       "  <thead>\n",
       "    <tr style=\"text-align: right;\">\n",
       "      <th></th>\n",
       "      <th>title</th>\n",
       "      <th>text</th>\n",
       "      <th>subject</th>\n",
       "      <th>date</th>\n",
       "      <th>label</th>\n",
       "    </tr>\n",
       "  </thead>\n",
       "  <tbody>\n",
       "    <tr>\n",
       "      <th>0</th>\n",
       "      <td>BRONX HOSPITAL SHOOTING: Multiple People Shot,...</td>\n",
       "      <td>21st Century Wire says Several people have bee...</td>\n",
       "      <td>US_News</td>\n",
       "      <td>June 30, 2017</td>\n",
       "      <td>0</td>\n",
       "    </tr>\n",
       "    <tr>\n",
       "      <th>1</th>\n",
       "      <td>Watchdog sues Trump EPA pick to disclose conta...</td>\n",
       "      <td>WASHINGTON (Reuters) - A media watchdog group ...</td>\n",
       "      <td>politicsNews</td>\n",
       "      <td>February 7, 2017</td>\n",
       "      <td>1</td>\n",
       "    </tr>\n",
       "    <tr>\n",
       "      <th>2</th>\n",
       "      <td>Former George W. Bush Speechwriter Epically B...</td>\n",
       "      <td>This is a HUGE condemnation of the Republican ...</td>\n",
       "      <td>News</td>\n",
       "      <td>March 17, 2016</td>\n",
       "      <td>0</td>\n",
       "    </tr>\n",
       "    <tr>\n",
       "      <th>3</th>\n",
       "      <td>CITY OF CHICAGO Forcing Out Homeless Veterans ...</td>\n",
       "      <td>There is no reason to believe the welfare of o...</td>\n",
       "      <td>politics</td>\n",
       "      <td>May 15, 2016</td>\n",
       "      <td>0</td>\n",
       "    </tr>\n",
       "    <tr>\n",
       "      <th>4</th>\n",
       "      <td>U.S. VP-elect Pence to be sworn in by conserva...</td>\n",
       "      <td>WASHINGTON (Reuters) - Vice President-elect Mi...</td>\n",
       "      <td>politicsNews</td>\n",
       "      <td>January 12, 2017</td>\n",
       "      <td>1</td>\n",
       "    </tr>\n",
       "  </tbody>\n",
       "</table>\n",
       "</div>"
      ],
      "text/plain": [
       "                                               title  \\\n",
       "0  BRONX HOSPITAL SHOOTING: Multiple People Shot,...   \n",
       "1  Watchdog sues Trump EPA pick to disclose conta...   \n",
       "2   Former George W. Bush Speechwriter Epically B...   \n",
       "3  CITY OF CHICAGO Forcing Out Homeless Veterans ...   \n",
       "4  U.S. VP-elect Pence to be sworn in by conserva...   \n",
       "\n",
       "                                                text       subject  \\\n",
       "0  21st Century Wire says Several people have bee...       US_News   \n",
       "1  WASHINGTON (Reuters) - A media watchdog group ...  politicsNews   \n",
       "2  This is a HUGE condemnation of the Republican ...          News   \n",
       "3  There is no reason to believe the welfare of o...      politics   \n",
       "4  WASHINGTON (Reuters) - Vice President-elect Mi...  politicsNews   \n",
       "\n",
       "                date  label  \n",
       "0      June 30, 2017      0  \n",
       "1  February 7, 2017       1  \n",
       "2     March 17, 2016      0  \n",
       "3       May 15, 2016      0  \n",
       "4  January 12, 2017       1  "
      ]
     },
     "execution_count": 1,
     "metadata": {},
     "output_type": "execute_result"
    }
   ],
   "source": [
    "import pandas as pd\n",
    "\n",
    "# Load the data\n",
    "fake = pd.read_csv(\"Fake.csv\")\n",
    "real = pd.read_csv(\"True.csv\")\n",
    "\n",
    "# Add labels: 0 = Fake, 1 = Real\n",
    "fake['label'] = 0\n",
    "real['label'] = 1\n",
    "\n",
    "# Combine and shuffle the data\n",
    "data = pd.concat([fake, real])\n",
    "data = data.sample(frac=1).reset_index(drop=True)\n",
    "\n",
    "# Show the first few rows\n",
    "data.head()\n"
   ]
  },
  {
   "cell_type": "code",
   "execution_count": 2,
   "id": "07c2c276-3315-42c7-9d3f-2fcfc2c5f4c9",
   "metadata": {},
   "outputs": [
    {
     "name": "stdout",
     "output_type": "stream",
     "text": [
      "Index(['title', 'text', 'subject', 'date', 'label'], dtype='object')\n",
      "(44898, 5)\n",
      "<class 'pandas.core.frame.DataFrame'>\n",
      "RangeIndex: 44898 entries, 0 to 44897\n",
      "Data columns (total 5 columns):\n",
      " #   Column   Non-Null Count  Dtype \n",
      "---  ------   --------------  ----- \n",
      " 0   title    44898 non-null  object\n",
      " 1   text     44898 non-null  object\n",
      " 2   subject  44898 non-null  object\n",
      " 3   date     44898 non-null  object\n",
      " 4   label    44898 non-null  int64 \n",
      "dtypes: int64(1), object(4)\n",
      "memory usage: 1.7+ MB\n"
     ]
    }
   ],
   "source": [
    "print(data.columns)\n",
    "print(data.shape)\n",
    "data.info()\n"
   ]
  },
  {
   "cell_type": "code",
   "execution_count": 3,
   "id": "f2770d39-4087-4fa8-bcd1-37f6b5f33e84",
   "metadata": {},
   "outputs": [
    {
     "name": "stdout",
     "output_type": "stream",
     "text": [
      "Missing values:\n",
      " title      0\n",
      "text       0\n",
      "subject    0\n",
      "date       0\n",
      "label      0\n",
      "dtype: int64\n"
     ]
    }
   ],
   "source": [
    "# Check for empty or missing values\n",
    "print(\"Missing values:\\n\", data.isnull().sum())\n",
    "\n",
    "# Drop rows with missing or empty text\n",
    "data = data.dropna(subset=['text'])\n",
    "data = data[data['text'].str.strip() != '']\n"
   ]
  },
  {
   "cell_type": "code",
   "execution_count": null,
   "id": "e946b3c0-d918-4697-aaad-db9c03b1b860",
   "metadata": {},
   "outputs": [],
   "source": []
  }
 ],
 "metadata": {
  "kernelspec": {
   "display_name": "Python 3 (ipykernel)",
   "language": "python",
   "name": "python3"
  },
  "language_info": {
   "codemirror_mode": {
    "name": "ipython",
    "version": 3
   },
   "file_extension": ".py",
   "mimetype": "text/x-python",
   "name": "python",
   "nbconvert_exporter": "python",
   "pygments_lexer": "ipython3",
   "version": "3.11.8"
  }
 },
 "nbformat": 4,
 "nbformat_minor": 5
}
