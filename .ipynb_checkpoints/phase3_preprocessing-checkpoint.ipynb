{
 "cells": [
  {
   "cell_type": "code",
   "execution_count": 15,
   "id": "d575ff72-9013-4185-a8e4-494b32185313",
   "metadata": {},
   "outputs": [],
   "source": [
    "import pandas as pd\n",
    "\n",
    "fake = pd.read_csv(\"Fake.csv\")\n",
    "real = pd.read_csv(\"True.csv\")\n",
    "\n",
    "fake['label'] = 0\n",
    "real['label'] = 1\n",
    "\n",
    "data = pd.concat([fake, real])\n",
    "data = data.sample(frac=1).reset_index(drop=True)\n"
   ]
  },
  {
   "cell_type": "code",
   "execution_count": 16,
   "id": "d53fdc69-d63d-4273-8303-73b25790325a",
   "metadata": {},
   "outputs": [
    {
     "name": "stderr",
     "output_type": "stream",
     "text": [
      "[nltk_data] Downloading package stopwords to\n",
      "[nltk_data]     C:\\Users\\nanga\\AppData\\Roaming\\nltk_data...\n",
      "[nltk_data]   Package stopwords is already up-to-date!\n"
     ]
    }
   ],
   "source": [
    "import re\n",
    "import nltk\n",
    "nltk.download('stopwords')\n",
    "from nltk.corpus import stopwords\n",
    "\n",
    "stop_words = set(stopwords.words('english'))\n"
   ]
  },
  {
   "cell_type": "code",
   "execution_count": 17,
   "id": "7030efe8-3abf-4db3-8597-aff65746fd05",
   "metadata": {},
   "outputs": [],
   "source": [
    "# Step 3: Clean the text (using split instead of word_tokenize)\n",
    "def clean_text(text):\n",
    "    text = text.lower()\n",
    "    text = re.sub(r'[^a-z\\s]', '', text)\n",
    "    tokens = text.split()\n",
    "    cleaned_tokens = [word for word in tokens if word not in stop_words]\n",
    "    return ' '.join(cleaned_tokens)\n"
   ]
  },
  {
   "cell_type": "code",
   "execution_count": 18,
   "id": "f2021f38-546a-4ed9-9be7-bbd6675a96ab",
   "metadata": {},
   "outputs": [
    {
     "data": {
      "text/html": [
       "<div>\n",
       "<style scoped>\n",
       "    .dataframe tbody tr th:only-of-type {\n",
       "        vertical-align: middle;\n",
       "    }\n",
       "\n",
       "    .dataframe tbody tr th {\n",
       "        vertical-align: top;\n",
       "    }\n",
       "\n",
       "    .dataframe thead th {\n",
       "        text-align: right;\n",
       "    }\n",
       "</style>\n",
       "<table border=\"1\" class=\"dataframe\">\n",
       "  <thead>\n",
       "    <tr style=\"text-align: right;\">\n",
       "      <th></th>\n",
       "      <th>text</th>\n",
       "      <th>clean_text</th>\n",
       "    </tr>\n",
       "  </thead>\n",
       "  <tbody>\n",
       "    <tr>\n",
       "      <th>0</th>\n",
       "      <td>The White House confirmed to FOX Business that...</td>\n",
       "      <td>white house confirmed fox business priebus wou...</td>\n",
       "    </tr>\n",
       "    <tr>\n",
       "      <th>1</th>\n",
       "      <td>ISLAMABAD (Reuters) - A Pakistani court issued...</td>\n",
       "      <td>islamabad reuters pakistani court issued arres...</td>\n",
       "    </tr>\n",
       "    <tr>\n",
       "      <th>2</th>\n",
       "      <td>Watch CNN, Dana Bash ask Donald a question she...</td>\n",
       "      <td>watch cnn dana bash ask donald question wishes...</td>\n",
       "    </tr>\n",
       "    <tr>\n",
       "      <th>3</th>\n",
       "      <td>BARCELONA (Reuters) - Police will remove peopl...</td>\n",
       "      <td>barcelona reuters police remove people catalan...</td>\n",
       "    </tr>\n",
       "    <tr>\n",
       "      <th>4</th>\n",
       "      <td>Trump is not your traditional Republican candi...</td>\n",
       "      <td>trump traditional republican candidate anyone ...</td>\n",
       "    </tr>\n",
       "  </tbody>\n",
       "</table>\n",
       "</div>"
      ],
      "text/plain": [
       "                                                text  \\\n",
       "0  The White House confirmed to FOX Business that...   \n",
       "1  ISLAMABAD (Reuters) - A Pakistani court issued...   \n",
       "2  Watch CNN, Dana Bash ask Donald a question she...   \n",
       "3  BARCELONA (Reuters) - Police will remove peopl...   \n",
       "4  Trump is not your traditional Republican candi...   \n",
       "\n",
       "                                          clean_text  \n",
       "0  white house confirmed fox business priebus wou...  \n",
       "1  islamabad reuters pakistani court issued arres...  \n",
       "2  watch cnn dana bash ask donald question wishes...  \n",
       "3  barcelona reuters police remove people catalan...  \n",
       "4  trump traditional republican candidate anyone ...  "
      ]
     },
     "execution_count": 18,
     "metadata": {},
     "output_type": "execute_result"
    }
   ],
   "source": [
    "# Step 4: Apply and preview\n",
    "data['clean_text'] = data['text'].apply(clean_text)\n",
    "data[['text', 'clean_text']].head()\n"
   ]
  },
  {
   "cell_type": "code",
   "execution_count": null,
   "id": "1df73a07-6b76-471a-9057-881f8dbb577b",
   "metadata": {},
   "outputs": [],
   "source": []
  }
 ],
 "metadata": {
  "kernelspec": {
   "display_name": "Python 3 (ipykernel)",
   "language": "python",
   "name": "python3"
  },
  "language_info": {
   "codemirror_mode": {
    "name": "ipython",
    "version": 3
   },
   "file_extension": ".py",
   "mimetype": "text/x-python",
   "name": "python",
   "nbconvert_exporter": "python",
   "pygments_lexer": "ipython3",
   "version": "3.11.8"
  }
 },
 "nbformat": 4,
 "nbformat_minor": 5
}
